{
 "cells": [
  {
   "cell_type": "code",
   "execution_count": null,
   "metadata": {},
   "outputs": [],
   "source": [
    "import pandas as pd\n",
    "import numpy as np\n",
    "import os\n",
    "import mat73\n",
    "import tabulate\n",
    "from scipy import signal"
   ]
  },
  {
   "cell_type": "code",
   "execution_count": null,
   "metadata": {},
   "outputs": [],
   "source": [
    "# Set the base dir to the folder including .mat files\n",
    "base_dir = ''\n",
    "list_of_files = os.listdir(base_dir)\n",
    "list_of_files"
   ]
  },
  {
   "cell_type": "code",
   "execution_count": null,
   "metadata": {},
   "outputs": [],
   "source": [
    "label_for_file_dictionary = {\n",
    "    'struct_rs_R1.mat': 0,\n",
    "    'struct_r1b_R1.mat': 1,\n",
    "    'struct_r2b_R1.mat': 2,\n",
    "    'struct_r3b_R1.mat': 3,\n",
    "    'struct_r4b_R1.mat': 4\n",
    "}"
   ]
  },
  {
   "cell_type": "code",
   "execution_count": null,
   "metadata": {},
   "outputs": [],
   "source": [
    "def signal_divider(signal, window_len):\n",
    "    \n",
    "    fractions_of_signal = []\n",
    "    starting_index = 0\n",
    "    while starting_index < len(signal):\n",
    "    \n",
    "        fractions_of_signal.append(signal[starting_index : starting_index + window_len])\n",
    "        starting_index = starting_index + window_len\n",
    "    \n",
    "    del fractions_of_signal[-1]\n",
    "        \n",
    "    return np.array(fractions_of_signal)"
   ]
  },
  {
   "cell_type": "code",
   "execution_count": null,
   "metadata": {},
   "outputs": [],
   "source": [
    "# Set the exporting path for upsampled time domain signals\n",
    "upsampled_dir = ''\n",
    "\n",
    "#list_of_labels = ['Va', 'Vb', 'Vc', 'Ia', 'Ib', 'Ic', 'Vib_acpi', 'Vib_carc', 'Vib_acpe', 'Vib_axial', 'Vib_base']\n",
    "list_of_labels = ['Ia', 'Ib', 'Ic', 'Vib_acpi', 'Vib_carc', 'Vib_acpe', 'Vib_axial', 'Vib_base']\n",
    "\n",
    "len_of_vibrational_signals = 1024\n",
    "desirable_upsampling_len_vibrational_signals = 153740\n",
    "\n",
    "loads = ['torque05', 'torque10', 'torque15', 'torque20', 'torque25', 'torque30', 'torque35', 'torque40']\n",
    "desirable_repeatitions = 10\n",
    "\n",
    "for file in list_of_files:\n",
    "\n",
    "    data_dict = mat73.loadmat(base_dir + file)\n",
    "    main_key = list(data_dict.keys())[0]\n",
    "    data_dict = data_dict[main_key]\n",
    "    for load in loads:\n",
    "        for rep in range(desirable_repeatitions):\n",
    "            number_of_elec_points = len(data_dict[load][rep]['Va'])\n",
    "            f_el_rate_to_f_vib = number_of_elec_points/desirable_upsampling_len_vibrational_signals\n",
    "        \n",
    "#            Va = pd.DataFrame(signal_divider(data_dict[load][rep]['Va'], int(f_el_rate_to_f_vib*len_of_vibrational_signals)))\n",
    "#            Vb = pd.DataFrame(signal_divider(data_dict[load][rep]['Vb'], int(f_el_rate_to_f_vib*len_of_vibrational_signals)))\n",
    "#            Vc = pd.DataFrame(signal_divider(data_dict[load][rep]['Vc'], int(f_el_rate_to_f_vib*len_of_vibrational_signals)))\n",
    "            Ia = pd.DataFrame(signal_divider(data_dict[load][rep]['Ia'], int(f_el_rate_to_f_vib*len_of_vibrational_signals)))\n",
    "            Ib = pd.DataFrame(signal_divider(data_dict[load][rep]['Ib'], int(f_el_rate_to_f_vib*len_of_vibrational_signals)))\n",
    "            Ic = pd.DataFrame(signal_divider(data_dict[load][rep]['Ic'], int(f_el_rate_to_f_vib*len_of_vibrational_signals)))\n",
    "        \n",
    "\n",
    "            Vib_acpi = pd.DataFrame(signal_divider(\n",
    "                signal.resample(data_dict[load][rep]['Vib_acpi'], desirable_upsampling_len_vibrational_signals), len_of_vibrational_signals))\n",
    "            \n",
    "            Vib_carc = pd.DataFrame(signal_divider(\n",
    "                signal.resample(data_dict[load][rep]['Vib_carc'], desirable_upsampling_len_vibrational_signals),len_of_vibrational_signals))\n",
    "            \n",
    "            Vib_acpe = pd.DataFrame(signal_divider(\n",
    "                signal.resample(data_dict[load][rep]['Vib_acpe'], desirable_upsampling_len_vibrational_signals), len_of_vibrational_signals))\n",
    "            \n",
    "            Vib_axial = pd.DataFrame(signal_divider(\n",
    "                signal.resample(data_dict[load][rep]['Vib_axial'], desirable_upsampling_len_vibrational_signals), len_of_vibrational_signals))\n",
    "            \n",
    "            Vib_base = pd.DataFrame(signal_divider(\n",
    "                signal.resample(data_dict[load][rep]['Vib_base'], desirable_upsampling_len_vibrational_signals), len_of_vibrational_signals))\n",
    "                                    \n",
    "#            list_of_dfs = [Va, Vb, Vc, Ia, Ib, Ic, Vib_acpi, Vib_carc, Vib_acpe, Vib_axial, Vib_base]\n",
    "            list_of_dfs = [Ia, Ib, Ic, Vib_acpi, Vib_carc, Vib_acpe, Vib_axial, Vib_base]\n",
    "    \n",
    "            for i in range(len(list_of_dfs)):\n",
    "                list_of_dfs[i].to_csv(upsampled_dir + list_of_labels[i] + '\\\\' + list_of_labels[i] + '_' + main_key + '_' + load + '_' + str(rep) + '.csv')\n",
    "            \n",
    "    print('{} is EXPORTED!'.format(file))\n",
    "            "
   ]
  }
 ],
 "metadata": {
  "interpreter": {
   "hash": "51a9663a131f1b5758c45b97a2d6917c8ae86b33e231c3733631cbc7265cfc89"
  },
  "kernelspec": {
   "display_name": "Python 3.7.4 64-bit ('base': conda)",
   "language": "python",
   "name": "python3"
  },
  "language_info": {
   "codemirror_mode": {
    "name": "ipython",
    "version": 3
   },
   "file_extension": ".py",
   "mimetype": "text/x-python",
   "name": "python",
   "nbconvert_exporter": "python",
   "pygments_lexer": "ipython3",
   "version": "3.9.10"
  },
  "orig_nbformat": 4
 },
 "nbformat": 4,
 "nbformat_minor": 2
}
