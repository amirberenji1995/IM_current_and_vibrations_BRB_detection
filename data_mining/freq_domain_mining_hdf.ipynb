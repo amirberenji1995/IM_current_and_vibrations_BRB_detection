{
 "cells": [
  {
   "cell_type": "code",
   "execution_count": null,
   "metadata": {},
   "outputs": [],
   "source": [
    "import pandas as pd\n",
    "import numpy as np\n",
    "from scipy.fft import fft\n",
    "import matplotlib.pyplot as plt\n",
    "import os"
   ]
  },
  {
   "cell_type": "code",
   "execution_count": null,
   "metadata": {},
   "outputs": [],
   "source": [
    "# Set the path to upsampled hdf files, including windowed(shortened) time domain signals\n",
    "upsampled_dir = ''"
   ]
  },
  {
   "cell_type": "code",
   "execution_count": null,
   "metadata": {},
   "outputs": [],
   "source": [
    "signals = ['Ia', 'Ib', 'Ic', 'Vib_acpe', 'Vib_acpi', 'Vib_axial', 'Vib_base', 'Vib_carc']"
   ]
  },
  {
   "cell_type": "markdown",
   "metadata": {},
   "source": [
    "## Function - Fast Fourier Transformer"
   ]
  },
  {
   "cell_type": "code",
   "execution_count": null,
   "metadata": {},
   "outputs": [],
   "source": [
    "def ff_transformer(signal):\n",
    "    N = len(signal)\n",
    "    signal_fft = 2.0/N * np.abs(fft(signal)[0:N//2])\n",
    "\n",
    "    return signal_fft"
   ]
  },
  {
   "cell_type": "markdown",
   "metadata": {},
   "source": [
    "## Function - DataFrame Fast Fourier Transformer"
   ]
  },
  {
   "cell_type": "code",
   "execution_count": null,
   "metadata": {},
   "outputs": [],
   "source": [
    "def df_ff_transformer(time_df):\n",
    "    freq_domain = []\n",
    "    for index, row in time_df.iterrows():\n",
    "        freq_domain.append(ff_transformer(row))\n",
    "\n",
    "    freq_domain_df = pd.DataFrame(freq_domain)\n",
    "    return freq_domain_df"
   ]
  },
  {
   "cell_type": "code",
   "execution_count": null,
   "metadata": {},
   "outputs": [],
   "source": [
    "# Set the path to export frequency domain hdf files\n",
    "freq_domain_dir = ''\n",
    "\n",
    "for signal in  os.listdir(upsampled_dir + 'raw_upsampled\\\\'):\n",
    "    for  csv_file in os.listdir(upsampled_dir + 'raw_upsampled\\\\' + signal + '\\\\'):\n",
    "        time_df = pd.read_csv(upsampled_dir + 'raw_upsampled\\\\' + signal + '\\\\' + csv_file, index_col=0)\n",
    "        freq_df = df_ff_transformer(time_df)\n",
    "\n",
    "        freq_df.to_hdf(freq_domain_dir + signal + '\\\\' + \"\".join(list(csv_file)[0:-4]) + '.hdf', \"\".join(list(csv_file)[0:-4]))"
   ]
  }
 ],
 "metadata": {
  "interpreter": {
   "hash": "51a9663a131f1b5758c45b97a2d6917c8ae86b33e231c3733631cbc7265cfc89"
  },
  "kernelspec": {
   "display_name": "Python 3.7.4 64-bit ('base': conda)",
   "language": "python",
   "name": "python3"
  },
  "language_info": {
   "codemirror_mode": {
    "name": "ipython",
    "version": 3
   },
   "file_extension": ".py",
   "mimetype": "text/x-python",
   "name": "python",
   "nbconvert_exporter": "python",
   "pygments_lexer": "ipython3",
   "version": "3.7.4"
  },
  "orig_nbformat": 4
 },
 "nbformat": 4,
 "nbformat_minor": 2
}
